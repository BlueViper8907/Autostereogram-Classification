{
 "cells": [
  {
   "cell_type": "code",
   "execution_count": 1,
   "metadata": {},
   "outputs": [],
   "source": [
    "import numpy as np\n",
    "import pandas as pd\n",
    "\n",
    "import requests\n",
    "from bs4 import BeautifulSoup\n",
    "import time\n",
    "import os"
   ]
  },
  {
   "cell_type": "code",
   "execution_count": 2,
   "metadata": {},
   "outputs": [],
   "source": [
    "url = 'https://eyetricks-3d-stereograms.com/eyetricks_favorite_stereograms_gallery.html'"
   ]
  },
  {
   "cell_type": "code",
   "execution_count": 3,
   "metadata": {},
   "outputs": [
    {
     "data": {
      "text/plain": [
       "True"
      ]
     },
     "execution_count": 3,
     "metadata": {},
     "output_type": "execute_result"
    }
   ],
   "source": [
    "r = requests.get(url)\n",
    "r.ok"
   ]
  },
  {
   "cell_type": "code",
   "execution_count": 4,
   "metadata": {},
   "outputs": [
    {
     "name": "stdout",
     "output_type": "stream",
     "text": [
      "eyeTricks - Our Favorite 3D Stereograms\n"
     ]
    }
   ],
   "source": [
    "soup = BeautifulSoup(r.text, 'html.parser')\n",
    "print(soup.title.text)"
   ]
  },
  {
   "cell_type": "code",
   "execution_count": 5,
   "metadata": {},
   "outputs": [],
   "source": [
    "images = soup.find_all('img')"
   ]
  },
  {
   "cell_type": "code",
   "execution_count": 6,
   "metadata": {},
   "outputs": [],
   "source": [
    "# Guide followed from https://www.youtube.com/channel/UC8tgRQ7DOzAbn9L7zDL8mLg\n",
    "# Video series: https://www.youtube.com/watch?v=stIxEKR7o-c\n",
    "# Github: https://github.com/jhnwr/image-downloader\n",
    "\n",
    "def imagedownload(url,folder):\n",
    "    # Create directory, joining current directory and new folder\n",
    "    try:\n",
    "        os.mkdir(os.path.join(os.getcwd(),folder))\n",
    "    except:\n",
    "        pass\n",
    "    \n",
    "    os.chdir(os.path.join(os.getcwd(),folder))\n",
    "    \n",
    "    r = requests.get(url)\n",
    "    soup = BeautifulSoup(r.text, 'html.parser')\n",
    "    images = soup.find_all('img')\n",
    "    \n",
    "    for index, image in enumerate(images):\n",
    "        name = image['alt']\n",
    "        link = image['src']\n",
    "        with open(str(index) + '.jpg', 'wb') as f:\n",
    "            link = 'https://eyetricks-3d-stereograms.com/' + link\n",
    "            im = requests.get(link)\n",
    "            f.write(im.content)\n",
    "            print('Writing: ',name)"
   ]
  },
  {
   "cell_type": "code",
   "execution_count": 7,
   "metadata": {
    "scrolled": true
   },
   "outputs": [
    {
     "name": "stdout",
     "output_type": "stream",
     "text": [
      "Writing:  \n",
      "Writing:  eyeTricks™ 3D STEREOGRAMS\n",
      "Writing:  GALLERIES | FAVORITE IMAGES\n",
      "Writing:  ©2020 eye Tricks 3D Stereograms - Site design gwpriester.com\n",
      "Writing:  Mouse Over thumbnails to see image\n",
      "Writing:  ©Gary W. Priester ©Gary W. Priester\n",
      "Writing:  \n",
      "Writing:  \n",
      "Writing:  ©G. W. Priester ©G. W. Priester\n",
      "Writing:  \n",
      "Writing:  \n",
      "Writing:  \n",
      "Writing:  ©G.W. Priester ©G.W. Priester\n",
      "Writing:  \n",
      "Writing:  \n",
      "Writing:  ©G.W. Priester ©G.W. Priester\n",
      "Writing:  \n",
      "Writing:  \n",
      "Writing:  ©G.W. Priester ©G.W. Priester\n",
      "Writing:  \n",
      "Writing:  \n",
      "Writing:  \n",
      "Writing:  ©G.W. Priester ©G.W. Priester\n",
      "Writing:  \n",
      "Writing:  \n",
      "Writing:  ©G.W. Priester ©G.W. Priester\n",
      "Writing:  \n",
      "Writing:  \n",
      "Writing:  ©G.W. Priester ©G.W. Priester\n",
      "Writing:  \n",
      "Writing:  \n",
      "Writing:  HOME\n",
      "Writing:  HOME\n",
      "Writing:  HOME\n",
      "Writing:  ABOUT US\n",
      "Writing:  ABOUT US\n",
      "Writing:  ABOUT US\n",
      "Writing:  CATCH THEIR EYE\n",
      "Writing:  CATCH THEIR EYE\n",
      "Writing:  CATCH THEIR EYE\n",
      "Writing:  KINDS OF STEREOGRAMS\n",
      "Writing:  KINDS OF STEREOGRAMS\n",
      "Writing:  KINDS OF STEREOGRAMS\n",
      "Writing:  HOW STEREOGRAMS WORK\n",
      "Writing:  HOW STEREOGRAMS WORK\n",
      "Writing:  HOW STEREOGRAMS WORK\n",
      "Writing:  GALLERIES >\n",
      "Writing:  GALLERIES >\n",
      "Writing:  GALLERIES >\n",
      "Writing:  PUBLICATIONS\n",
      "Writing:  PUBLICATIONS\n",
      "Writing:  PUBLICATIONS\n",
      "Writing:  CONTACT US\n",
      "Writing:  CONTACT US\n",
      "Writing:  CONTACT US\n",
      "Writing:  eyeTricks™ 3D STEREOGRAMS\n",
      "Writing:  GALLERIES | FAVORITE IMAGES\n",
      "Writing:  ©2020 eye Tricks 3D Stereograms - Site design gwpriester.com\n",
      "Writing:  Mouse Over thumbnails to see image\n",
      "Writing:  \n",
      "Writing:  \n",
      "Writing:  \n",
      "Writing:  ©Gary W. Priester ©Gary W. Priester\n",
      "Writing:  \n",
      "Writing:  \n",
      "Writing:  ©G. W. Priester ©G. W. Priester\n",
      "Writing:  \n",
      "Writing:  \n",
      "Writing:  \n",
      "Writing:  ©G.W. Priester ©G.W. Priester\n",
      "Writing:  \n",
      "Writing:  \n",
      "Writing:  ©G.W. Priester ©G.W. Priester\n",
      "Writing:  \n",
      "Writing:  \n",
      "Writing:  ©G.W. Priester ©G.W. Priester\n",
      "Writing:  \n",
      "Writing:  \n",
      "Writing:  \n",
      "Writing:  ©G.W. Priester ©G.W. Priester\n",
      "Writing:  \n",
      "Writing:  \n",
      "Writing:  ©G.W. Priester ©G.W. Priester\n",
      "Writing:  \n",
      "Writing:  \n",
      "Writing:  ©G.W. Priester ©G.W. Priester\n",
      "Writing:  \n",
      "Writing:  \n",
      "Writing:  HOME\n",
      "Writing:  HOME\n",
      "Writing:  ABOUT US\n",
      "Writing:  HOW STEREOGRAMS WORK\n",
      "Writing:  KINDS OF STEREOGRAMS\n",
      "Writing:  GALLERY\n",
      "Writing:  CONTACT US\n",
      "Writing:  HOME\n",
      "Writing:  HOME\n",
      "Writing:  HOME\n",
      "Writing:  ABOUT US\n",
      "Writing:  ABOUT US\n",
      "Writing:  ABOUT US\n",
      "Writing:  KINDS OF STEREOGRAMS\n",
      "Writing:  KINDS OF STEREOGRAMS\n",
      "Writing:  KINDS OF STEREOGRAMS\n",
      "Writing:  HOW STEREOGRAMS WORK\n",
      "Writing:  HOW STEREOGRAMS WORK\n",
      "Writing:  HOW STEREOGRAMS WORK\n",
      "Writing:  STEREOGRAM GALLERIES >\n",
      "Writing:  STEREOGRAM GALLERIES >\n",
      "Writing:  STEREOGRAM GALLERIES >\n",
      "Writing:  PUBLICATIONS\n",
      "Writing:  PUBLICATIONS\n",
      "Writing:  PUBLICATIONS\n",
      "Writing:  CONTACT INFORMATION >\n",
      "Writing:  CONTACT INFORMATION >\n",
      "Writing:  CONTACT INFORMATION >\n"
     ]
    }
   ],
   "source": [
    "# imagedownload('https://eyetricks-3d-stereograms.com/eyetricks_favorite_stereograms_gallery.html', 'eyeTricks 3D Favorites')"
   ]
  },
  {
   "cell_type": "code",
   "execution_count": null,
   "metadata": {
    "scrolled": true
   },
   "outputs": [
    {
     "name": "stdout",
     "output_type": "stream",
     "text": [
      "Writing:  \n",
      "Writing:  eyeTricks™ 3D STEREOGRAMS\n",
      "Writing:  GALLERIES | STOCK STEREOGRAMS\n"
     ]
    }
   ],
   "source": [
    "# imagedownload('https://eyetricks-3d-stereograms.com/stock-stereogram_gallery.html','eyeTricks 3D Stock')"
   ]
  },
  {
   "cell_type": "code",
   "execution_count": null,
   "metadata": {
    "scrolled": true
   },
   "outputs": [],
   "source": [
    "# imagedownload('https://eyetricks-3d-stereograms.com/custom_stereogram_gallery.html','eyeTricks 3D Custom')"
   ]
  },
  {
   "cell_type": "code",
   "execution_count": null,
   "metadata": {},
   "outputs": [],
   "source": [
    "# imagedownload('http://www.colorstereo.com/gal-his/dir-gal-his.html','Color Stereo HIS')"
   ]
  },
  {
   "cell_type": "code",
   "execution_count": null,
   "metadata": {},
   "outputs": [],
   "source": [
    "# imagedownload('https://www.google.com/search?q=autostereogram&rlz=1C1CHBF_enUS890US890&sxsrf=ALeKk01iRX8vtwePh4PBlXcF3qSXuVV_RQ:1629128091093&source=lnms&tbm=isch&sa=X&ved=2ahUKEwjhyaaJ77XyAhVJFVkFHfu9DkYQ_AUoAXoECAEQAw&biw=1920&bih=975','Google Test')"
   ]
  },
  {
   "cell_type": "code",
   "execution_count": null,
   "metadata": {},
   "outputs": [],
   "source": []
  }
 ],
 "metadata": {
  "kernelspec": {
   "display_name": "Python [conda env:learn-env] *",
   "language": "python",
   "name": "conda-env-learn-env-py"
  },
  "language_info": {
   "codemirror_mode": {
    "name": "ipython",
    "version": 3
   },
   "file_extension": ".py",
   "mimetype": "text/x-python",
   "name": "python",
   "nbconvert_exporter": "python",
   "pygments_lexer": "ipython3",
   "version": "3.6.9"
  },
  "toc": {
   "base_numbering": 1,
   "nav_menu": {
    "height": "12px",
    "width": "160px"
   },
   "number_sections": true,
   "sideBar": true,
   "skip_h1_title": false,
   "title_cell": "Table of Contents",
   "title_sidebar": "Contents",
   "toc_cell": false,
   "toc_position": {},
   "toc_section_display": true,
   "toc_window_display": false
  }
 },
 "nbformat": 4,
 "nbformat_minor": 2
}
