{
 "cells": [
  {
   "cell_type": "code",
   "execution_count": 2,
   "metadata": {},
   "outputs": [],
   "source": [
    "import numpy as np\n",
    "import pandas as pd\n",
    "\n",
    "import requests\n",
    "from bs4 import BeautifulSoup\n",
    "import time\n",
    "import os"
   ]
  },
  {
   "cell_type": "code",
   "execution_count": 3,
   "metadata": {},
   "outputs": [],
   "source": [
    "url = 'https://eyetricks-3d-stereograms.com/eyetricks_favorite_stereograms_gallery.html'"
   ]
  },
  {
   "cell_type": "code",
   "execution_count": 4,
   "metadata": {},
   "outputs": [
    {
     "data": {
      "text/plain": [
       "True"
      ]
     },
     "execution_count": 4,
     "metadata": {},
     "output_type": "execute_result"
    }
   ],
   "source": [
    "r = requests.get(url)\n",
    "r.ok"
   ]
  },
  {
   "cell_type": "code",
   "execution_count": 5,
   "metadata": {},
   "outputs": [
    {
     "name": "stdout",
     "output_type": "stream",
     "text": [
      "eyeTricks - Our Favorite 3D Stereograms\n"
     ]
    }
   ],
   "source": [
    "soup = BeautifulSoup(r.text, 'html.parser')\n",
    "print(soup.title.text)"
   ]
  },
  {
   "cell_type": "code",
   "execution_count": 6,
   "metadata": {},
   "outputs": [],
   "source": [
    "images = soup.find_all('img')"
   ]
  },
  {
   "cell_type": "code",
   "execution_count": 7,
   "metadata": {},
   "outputs": [],
   "source": [
    "# Guide followed from https://www.youtube.com/channel/UC8tgRQ7DOzAbn9L7zDL8mLg\n",
    "# Video series: https://www.youtube.com/watch?v=stIxEKR7o-c\n",
    "# Github: https://github.com/jhnwr/image-downloader\n",
    "\n",
    "def imagedownload(url,folder):\n",
    "    # Create directory, joining current directory and new folder\n",
    "    try:\n",
    "        os.mkdir(os.path.join(os.getcwd(),folder))\n",
    "    except:\n",
    "        pass\n",
    "    \n",
    "    os.chdir(os.path.join(os.getcwd(),folder))\n",
    "    \n",
    "    r = requests.get(url)\n",
    "    soup = BeautifulSoup(r.text, 'html.parser')\n",
    "    images = soup.find_all('img')\n",
    "    \n",
    "    for index, image in enumerate(images):\n",
    "        name = image['alt']\n",
    "        link = image['src']\n",
    "        with open(str(index) + '.jpg', 'wb') as f:\n",
    "            link = 'https://eyetricks-3d-stereograms.com/' + link\n",
    "            im = requests.get(link)\n",
    "            f.write(im.content)\n",
    "            print('Writing: ',name)"
   ]
  },
  {
   "cell_type": "code",
   "execution_count": 10,
   "metadata": {
    "scrolled": true
   },
   "outputs": [],
   "source": [
    "# imagedownload('https://eyetricks-3d-stereograms.com/eyetricks_favorite_stereograms_gallery.html', 'eyeTricks 3D Favorites')"
   ]
  },
  {
   "cell_type": "code",
   "execution_count": 11,
   "metadata": {
    "scrolled": true
   },
   "outputs": [],
   "source": [
    "# imagedownload('https://eyetricks-3d-stereograms.com/stock-stereogram_gallery.html','eyeTricks 3D Stock')"
   ]
  },
  {
   "cell_type": "code",
   "execution_count": 12,
   "metadata": {
    "scrolled": true
   },
   "outputs": [],
   "source": [
    "# imagedownload('https://eyetricks-3d-stereograms.com/custom_stereogram_gallery.html','eyeTricks 3D Custom')"
   ]
  },
  {
   "cell_type": "code",
   "execution_count": 13,
   "metadata": {},
   "outputs": [],
   "source": [
    "# imagedownload('http://www.colorstereo.com/gal-his/dir-gal-his.html','Color Stereo HIS')"
   ]
  },
  {
   "cell_type": "code",
   "execution_count": 14,
   "metadata": {},
   "outputs": [],
   "source": [
    "# imagedownload('https://www.google.com/search?q=autostereogram&rlz=1C1CHBF_enUS890US890&sxsrf=ALeKk01iRX8vtwePh4PBlXcF3qSXuVV_RQ:1629128091093&source=lnms&tbm=isch&sa=X&ved=2ahUKEwjhyaaJ77XyAhVJFVkFHfu9DkYQ_AUoAXoECAEQAw&biw=1920&bih=975','Google Test')"
   ]
  },
  {
   "cell_type": "code",
   "execution_count": 23,
   "metadata": {},
   "outputs": [
    {
     "name": "stdout",
     "output_type": "stream",
     "text": [
      "Writing: \n",
      "Writing: \n",
      "Writing: \n",
      "Writing: \n",
      "Writing: \n",
      "Writing: \n",
      "Writing: \n",
      "Writing: \n",
      "Writing: \n",
      "Writing: \n",
      "Writing: \n",
      "Writing: \n",
      "Writing: \n",
      "Writing: \n",
      "Writing: \n",
      "Writing: \n",
      "Writing: \n",
      "Writing: \n",
      "Writing: \n",
      "Writing: \n",
      "Writing: \n",
      "Writing: \n",
      "Writing: \n",
      "Writing: \n",
      "Writing: \n",
      "Writing: \n",
      "Writing: \n",
      "Writing: \n",
      "Writing: \n",
      "Writing: \n",
      "Writing: \n",
      "Writing: \n",
      "Writing: \n",
      "Writing: \n",
      "Writing: \n",
      "Writing: \n",
      "Writing: \n",
      "Writing: \n",
      "Writing: \n",
      "Writing: \n",
      "Writing: \n",
      "Writing: \n",
      "Writing: \n",
      "Writing: \n",
      "Writing: \n",
      "Writing: \n",
      "Writing: \n",
      "Writing: \n",
      "Writing: \n",
      "Writing: \n",
      "Writing: \n",
      "Writing: \n",
      "Writing: \n",
      "Writing: \n",
      "Writing: \n",
      "Writing: \n",
      "Writing: \n",
      "Writing: \n",
      "Writing: \n",
      "Writing: \n",
      "Writing: \n",
      "Writing: \n",
      "Writing: \n",
      "Writing: \n",
      "Writing: \n",
      "Writing: \n",
      "Writing: \n",
      "Writing: \n",
      "Writing: \n",
      "Writing: \n",
      "Writing: \n",
      "Writing: \n",
      "Writing: \n",
      "Writing: \n",
      "Writing: \n",
      "Writing: \n",
      "Writing: \n",
      "Writing: \n",
      "Writing: \n",
      "Writing: \n",
      "Writing: \n",
      "Writing: \n",
      "Writing: \n",
      "Writing: \n",
      "Writing: \n",
      "Writing: \n",
      "Writing: \n",
      "Writing: \n",
      "Writing: \n",
      "Writing: \n",
      "Writing: \n",
      "Writing: \n",
      "Writing: \n",
      "Writing: \n",
      "Writing: \n",
      "Writing: \n",
      "Writing: \n",
      "Writing: \n",
      "Writing: \n",
      "Writing: \n",
      "Writing: \n",
      "Writing: \n",
      "Writing: \n",
      "Writing: \n",
      "Writing: \n",
      "Writing: \n",
      "Writing: \n",
      "Writing: \n",
      "Writing: \n",
      "Writing: \n",
      "Writing: \n",
      "Writing: \n",
      "Writing: \n",
      "Writing: \n",
      "Writing: \n",
      "Writing: \n",
      "Writing: \n",
      "Writing: \n",
      "Writing: \n",
      "Writing: \n",
      "Writing: \n",
      "Writing: \n",
      "Writing: \n",
      "Writing: \n",
      "Writing: \n",
      "Writing: \n",
      "Writing: \n",
      "Writing: \n",
      "Writing: \n",
      "Writing: \n",
      "Writing: \n",
      "Writing: \n",
      "Writing: \n",
      "Writing: \n",
      "Writing: \n",
      "Writing: \n",
      "Writing: \n",
      "Writing: \n",
      "Writing: \n",
      "Writing: \n",
      "Writing: \n",
      "Writing: \n",
      "Writing: \n",
      "Writing: \n",
      "Writing: \n",
      "Writing: \n",
      "Writing: \n",
      "Writing: \n",
      "Writing: \n",
      "Writing: \n",
      "Writing: \n",
      "Writing: \n",
      "Writing: \n",
      "Writing: \n",
      "Writing: \n",
      "Writing: \n",
      "Writing: \n",
      "Writing: \n",
      "Writing: \n",
      "Writing: \n",
      "Writing: \n",
      "Writing: \n",
      "Writing: \n",
      "Writing: \n",
      "Writing: \n",
      "Writing: \n",
      "Writing: \n",
      "Writing: \n",
      "Writing: \n",
      "Writing: \n",
      "Writing: \n",
      "Writing: \n",
      "Writing: \n",
      "Writing: \n"
     ]
    }
   ],
   "source": [
    "imagedownload('https://acidcow.com/pics/1694-autostereogram-100-pics.html','Acid Cow')"
   ]
  },
  {
   "cell_type": "code",
   "execution_count": 30,
   "metadata": {
    "scrolled": true
   },
   "outputs": [
    {
     "name": "stdout",
     "output_type": "stream",
     "text": [
      "Writing: \n",
      "Writing: \n",
      "Writing: \n",
      "Writing: \n",
      "Writing: \n",
      "Writing: \n",
      "Writing: \n",
      "Writing: \n",
      "Writing: \n",
      "Writing: \n",
      "Writing: \n",
      "Writing: \n",
      "Writing: \n",
      "Writing: \n",
      "Writing: \n",
      "Writing: \n",
      "Writing: \n",
      "Writing: \n",
      "Writing: \n",
      "Writing: \n",
      "Writing: \n",
      "Writing: \n",
      "Writing: \n",
      "Writing: \n"
     ]
    }
   ],
   "source": [
    "imagedownload('https://hidden-3d.com/index.php?id=sg_newest','Hidden 3D')"
   ]
  },
  {
   "cell_type": "code",
   "execution_count": 31,
   "metadata": {
    "scrolled": true
   },
   "outputs": [
    {
     "name": "stdout",
     "output_type": "stream",
     "text": [
      "Writing: \n",
      "Writing: \n",
      "Writing: \n",
      "Writing: \n",
      "Writing: \n",
      "Writing: \n",
      "Writing: \n",
      "Writing: \n",
      "Writing: \n",
      "Writing: \n",
      "Writing: \n",
      "Writing: \n",
      "Writing: \n",
      "Writing: \n",
      "Writing: \n",
      "Writing: \n",
      "Writing: \n",
      "Writing: \n",
      "Writing: \n",
      "Writing: \n",
      "Writing: \n",
      "Writing: \n",
      "Writing: \n",
      "Writing: \n"
     ]
    }
   ],
   "source": [
    "imagedownload('https://hidden-3d.com/index.php?id=sg_newest&page=2','Hidden 3D - 2')"
   ]
  },
  {
   "cell_type": "code",
   "execution_count": 33,
   "metadata": {
    "scrolled": true
   },
   "outputs": [
    {
     "name": "stdout",
     "output_type": "stream",
     "text": [
      "Writing: \n",
      "Writing: \n",
      "Writing: \n",
      "Writing: \n",
      "Writing: \n",
      "Writing: \n",
      "Writing: \n",
      "Writing: \n",
      "Writing: \n",
      "Writing: \n",
      "Writing: \n",
      "Writing: \n",
      "Writing: \n",
      "Writing: \n",
      "Writing: \n",
      "Writing: \n",
      "Writing: \n",
      "Writing: \n",
      "Writing: \n",
      "Writing: \n",
      "Writing: \n",
      "Writing: \n",
      "Writing: \n",
      "Writing: \n"
     ]
    }
   ],
   "source": [
    "imagedownload('https://hidden-3d.com/index.php?id=sg_newest&page=3','Hidden 3D - 3')"
   ]
  },
  {
   "cell_type": "code",
   "execution_count": 34,
   "metadata": {
    "scrolled": true
   },
   "outputs": [
    {
     "name": "stdout",
     "output_type": "stream",
     "text": [
      "Writing: \n",
      "Writing: \n",
      "Writing: \n",
      "Writing: \n",
      "Writing: \n",
      "Writing: \n",
      "Writing: \n",
      "Writing: \n",
      "Writing: \n",
      "Writing: \n",
      "Writing: \n",
      "Writing: \n",
      "Writing: \n",
      "Writing: \n",
      "Writing: \n",
      "Writing: \n",
      "Writing: \n",
      "Writing: \n",
      "Writing: \n",
      "Writing: \n",
      "Writing: \n",
      "Writing: \n",
      "Writing: \n",
      "Writing: \n"
     ]
    }
   ],
   "source": [
    "imagedownload('https://hidden-3d.com/index.php?id=sg_newest&page=4','Hidden 3D - 4')"
   ]
  },
  {
   "cell_type": "code",
   "execution_count": 35,
   "metadata": {
    "scrolled": true
   },
   "outputs": [
    {
     "name": "stdout",
     "output_type": "stream",
     "text": [
      "Writing: \n",
      "Writing: \n",
      "Writing: \n",
      "Writing: \n",
      "Writing: \n",
      "Writing: \n",
      "Writing: \n",
      "Writing: \n",
      "Writing: \n",
      "Writing: \n",
      "Writing: \n",
      "Writing: \n",
      "Writing: \n",
      "Writing: \n",
      "Writing: \n",
      "Writing: \n",
      "Writing: \n",
      "Writing: \n",
      "Writing: \n",
      "Writing: \n",
      "Writing: \n",
      "Writing: \n",
      "Writing: \n",
      "Writing: \n"
     ]
    }
   ],
   "source": [
    "imagedownload('https://hidden-3d.com/index.php?id=sg_newest&page=5','Hidden 3D - 5')"
   ]
  },
  {
   "cell_type": "code",
   "execution_count": 36,
   "metadata": {
    "scrolled": true
   },
   "outputs": [
    {
     "name": "stdout",
     "output_type": "stream",
     "text": [
      "Writing: \n",
      "Writing: \n",
      "Writing: \n",
      "Writing: \n",
      "Writing: \n",
      "Writing: \n",
      "Writing: \n",
      "Writing: \n",
      "Writing: \n",
      "Writing: \n",
      "Writing: \n",
      "Writing: \n",
      "Writing: \n",
      "Writing: \n",
      "Writing: \n",
      "Writing: \n",
      "Writing: \n",
      "Writing: \n",
      "Writing: \n",
      "Writing: \n",
      "Writing: \n",
      "Writing: \n",
      "Writing: \n"
     ]
    }
   ],
   "source": [
    "imagedownload('https://hidden-3d.com/index.php?id=sg_newest&page=6','Hidden 3D - 6')"
   ]
  },
  {
   "cell_type": "code",
   "execution_count": 37,
   "metadata": {},
   "outputs": [
    {
     "name": "stdout",
     "output_type": "stream",
     "text": [
      "Writing: \n",
      "Writing: \n",
      "Writing: \n",
      "Writing: \n",
      "Writing: \n",
      "Writing: \n",
      "Writing: \n",
      "Writing: \n",
      "Writing: \n",
      "Writing: \n",
      "Writing: \n",
      "Writing: \n",
      "Writing: \n",
      "Writing: \n",
      "Writing: \n",
      "Writing: \n",
      "Writing: \n",
      "Writing: \n",
      "Writing: \n",
      "Writing: \n",
      "Writing: \n",
      "Writing: \n",
      "Writing: \n",
      "Writing: \n"
     ]
    }
   ],
   "source": [
    "imagedownload('https://hidden-3d.com/index.php?id=sg_newest&page=7','Hidden 3D - 7')"
   ]
  },
  {
   "cell_type": "code",
   "execution_count": 38,
   "metadata": {},
   "outputs": [
    {
     "ename": "FileNotFoundError",
     "evalue": "[WinError 2] The system cannot find the file specified: 'C:\\\\Users\\\\c_fre\\\\Learn.co\\\\Module_5_Project\\\\Illusion-Image-Classification\\\\Acid Cow\\\\Acid Cow\\\\Acid Cow\\\\Hidden 3D\\\\Hidden 3D\\\\Hidden 3D\\\\Hidden 3D\\\\Hidden 3D - 2\\\\Hidden 3D - 2\\\\Hidden 3D - 3\\\\Hidden 3D - 4\\\\Hidden 3D - 5\\\\Hidden 3D - 6\\\\Hidden 3D - 7\\\\Hidden 3D - 8'",
     "output_type": "error",
     "traceback": [
      "\u001b[1;31m---------------------------------------------------------------------------\u001b[0m",
      "\u001b[1;31mFileNotFoundError\u001b[0m                         Traceback (most recent call last)",
      "\u001b[1;32m<ipython-input-38-bf9386b27b24>\u001b[0m in \u001b[0;36m<module>\u001b[1;34m\u001b[0m\n\u001b[1;32m----> 1\u001b[1;33m \u001b[0mimagedownload\u001b[0m\u001b[1;33m(\u001b[0m\u001b[1;34m'https://hidden-3d.com/index.php?id=sg_newest&page=8'\u001b[0m\u001b[1;33m,\u001b[0m\u001b[1;34m'Hidden 3D - 8'\u001b[0m\u001b[1;33m)\u001b[0m\u001b[1;33m\u001b[0m\u001b[1;33m\u001b[0m\u001b[0m\n\u001b[0m",
      "\u001b[1;32m<ipython-input-29-c23c36828bbe>\u001b[0m in \u001b[0;36mimagedownload\u001b[1;34m(url, folder)\u001b[0m\n\u001b[0;32m     10\u001b[0m         \u001b[1;32mpass\u001b[0m\u001b[1;33m\u001b[0m\u001b[1;33m\u001b[0m\u001b[0m\n\u001b[0;32m     11\u001b[0m \u001b[1;33m\u001b[0m\u001b[0m\n\u001b[1;32m---> 12\u001b[1;33m     \u001b[0mos\u001b[0m\u001b[1;33m.\u001b[0m\u001b[0mchdir\u001b[0m\u001b[1;33m(\u001b[0m\u001b[0mos\u001b[0m\u001b[1;33m.\u001b[0m\u001b[0mpath\u001b[0m\u001b[1;33m.\u001b[0m\u001b[0mjoin\u001b[0m\u001b[1;33m(\u001b[0m\u001b[0mos\u001b[0m\u001b[1;33m.\u001b[0m\u001b[0mgetcwd\u001b[0m\u001b[1;33m(\u001b[0m\u001b[1;33m)\u001b[0m\u001b[1;33m,\u001b[0m\u001b[0mfolder\u001b[0m\u001b[1;33m)\u001b[0m\u001b[1;33m)\u001b[0m\u001b[1;33m\u001b[0m\u001b[1;33m\u001b[0m\u001b[0m\n\u001b[0m\u001b[0;32m     13\u001b[0m \u001b[1;33m\u001b[0m\u001b[0m\n\u001b[0;32m     14\u001b[0m     \u001b[0mr\u001b[0m \u001b[1;33m=\u001b[0m \u001b[0mrequests\u001b[0m\u001b[1;33m.\u001b[0m\u001b[0mget\u001b[0m\u001b[1;33m(\u001b[0m\u001b[0murl\u001b[0m\u001b[1;33m)\u001b[0m\u001b[1;33m\u001b[0m\u001b[1;33m\u001b[0m\u001b[0m\n",
      "\u001b[1;31mFileNotFoundError\u001b[0m: [WinError 2] The system cannot find the file specified: 'C:\\\\Users\\\\c_fre\\\\Learn.co\\\\Module_5_Project\\\\Illusion-Image-Classification\\\\Acid Cow\\\\Acid Cow\\\\Acid Cow\\\\Hidden 3D\\\\Hidden 3D\\\\Hidden 3D\\\\Hidden 3D\\\\Hidden 3D - 2\\\\Hidden 3D - 2\\\\Hidden 3D - 3\\\\Hidden 3D - 4\\\\Hidden 3D - 5\\\\Hidden 3D - 6\\\\Hidden 3D - 7\\\\Hidden 3D - 8'"
     ]
    }
   ],
   "source": [
    "imagedownload('https://hidden-3d.com/index.php?id=sg_newest&page=8','Hidden 3D - 8')"
   ]
  },
  {
   "cell_type": "code",
   "execution_count": null,
   "metadata": {},
   "outputs": [],
   "source": [
    "imagedownload('https://hidden-3d.com/index.php?id=sg_newest&page=9','Hidden 3D - 9')"
   ]
  },
  {
   "cell_type": "code",
   "execution_count": null,
   "metadata": {},
   "outputs": [],
   "source": [
    "imagedownload('https://hidden-3d.com/index.php?id=sg_newest&page=10','Hidden 3D - 10')"
   ]
  },
  {
   "cell_type": "code",
   "execution_count": null,
   "metadata": {},
   "outputs": [],
   "source": [
    "imagedownload('https://hidden-3d.com/index.php?id=sg_newest&page=11','Hidden 3D - 11')"
   ]
  },
  {
   "cell_type": "code",
   "execution_count": null,
   "metadata": {},
   "outputs": [],
   "source": [
    "imagedownload('https://hidden-3d.com/index.php?id=sg_newest&page=12','Hidden 3D - 12')"
   ]
  },
  {
   "cell_type": "code",
   "execution_count": null,
   "metadata": {},
   "outputs": [],
   "source": [
    "imagedownload('https://hidden-3d.com/index.php?id=sg_newest&page=13','Hidden 3D - 13')"
   ]
  },
  {
   "cell_type": "code",
   "execution_count": null,
   "metadata": {},
   "outputs": [],
   "source": [
    "imagedownload('https://hidden-3d.com/index.php?id=sg_newest&page=14','Hidden 3D - 14')"
   ]
  },
  {
   "cell_type": "code",
   "execution_count": null,
   "metadata": {},
   "outputs": [],
   "source": [
    "imagedownload('https://hidden-3d.com/index.php?id=sg_newest&page=15','Hidden 3D - 15')"
   ]
  },
  {
   "cell_type": "code",
   "execution_count": null,
   "metadata": {},
   "outputs": [],
   "source": [
    "imagedownload('https://hidden-3d.com/index.php?id=sg_newest&page=16','Hidden 3D - 16')"
   ]
  },
  {
   "cell_type": "code",
   "execution_count": null,
   "metadata": {},
   "outputs": [],
   "source": [
    "imagedownload('https://hidden-3d.com/index.php?id=sg_newest&page=17','Hidden 3D - 17')"
   ]
  },
  {
   "cell_type": "code",
   "execution_count": null,
   "metadata": {},
   "outputs": [],
   "source": [
    "imagedownload('https://hidden-3d.com/index.php?id=sg_newest&page=18','Hidden 3D - 18')"
   ]
  },
  {
   "cell_type": "code",
   "execution_count": 8,
   "metadata": {},
   "outputs": [
    {
     "name": "stdout",
     "output_type": "stream",
     "text": [
      "Writing:  3D Stereograms\n",
      "Writing:  Startling Stereograms by Gary W. Priester & Gene Levine\n",
      "Writing:  Incredible 3D Eye Tricks Stereogram Book\n",
      "Writing:  Epic Battle\n",
      "Writing:  Bookmark and Share\n"
     ]
    }
   ],
   "source": [
    "imagedownload('http://www.3dstereograms.com/view/165-Epic-Battle.html','3D Stereograms')"
   ]
  },
  {
   "cell_type": "code",
   "execution_count": null,
   "metadata": {},
   "outputs": [],
   "source": []
  },
  {
   "cell_type": "code",
   "execution_count": null,
   "metadata": {},
   "outputs": [],
   "source": []
  },
  {
   "cell_type": "code",
   "execution_count": null,
   "metadata": {},
   "outputs": [],
   "source": []
  },
  {
   "cell_type": "code",
   "execution_count": null,
   "metadata": {},
   "outputs": [],
   "source": []
  },
  {
   "cell_type": "code",
   "execution_count": null,
   "metadata": {},
   "outputs": [],
   "source": []
  },
  {
   "cell_type": "code",
   "execution_count": null,
   "metadata": {},
   "outputs": [],
   "source": []
  },
  {
   "cell_type": "code",
   "execution_count": null,
   "metadata": {},
   "outputs": [],
   "source": []
  },
  {
   "cell_type": "code",
   "execution_count": null,
   "metadata": {},
   "outputs": [],
   "source": []
  },
  {
   "cell_type": "code",
   "execution_count": null,
   "metadata": {},
   "outputs": [],
   "source": []
  }
 ],
 "metadata": {
  "kernelspec": {
   "display_name": "Python [conda env:learn-env] *",
   "language": "python",
   "name": "conda-env-learn-env-py"
  },
  "language_info": {
   "codemirror_mode": {
    "name": "ipython",
    "version": 3
   },
   "file_extension": ".py",
   "mimetype": "text/x-python",
   "name": "python",
   "nbconvert_exporter": "python",
   "pygments_lexer": "ipython3",
   "version": "3.6.9"
  },
  "toc": {
   "base_numbering": 1,
   "nav_menu": {
    "height": "12px",
    "width": "160px"
   },
   "number_sections": true,
   "sideBar": true,
   "skip_h1_title": false,
   "title_cell": "Table of Contents",
   "title_sidebar": "Contents",
   "toc_cell": false,
   "toc_position": {},
   "toc_section_display": true,
   "toc_window_display": false
  }
 },
 "nbformat": 4,
 "nbformat_minor": 2
}
